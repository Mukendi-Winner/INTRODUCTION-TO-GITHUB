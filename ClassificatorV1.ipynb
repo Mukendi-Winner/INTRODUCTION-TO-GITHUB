{
  "cells": [
    {
      "cell_type": "code",
      "execution_count": 31,
      "metadata": {
        "id": "JiUm4oeVy9Mx"
      },
      "outputs": [],
      "source": [
        "from tensorflow.keras import layers, models\n",
        "from tensorflow.keras.datasets import cifar10\n",
        "import numpy as np"
      ]
    },
    {
      "cell_type": "code",
      "execution_count": 32,
      "metadata": {
        "id": "ErQunXorzpQF"
      },
      "outputs": [],
      "source": [
        "# Chargement des données CIFAR-10\n",
        "(train_images, train_labels), (test_images, test_labels) = cifar10.load_data()"
      ]
    },
    {
      "cell_type": "code",
      "execution_count": 33,
      "metadata": {
        "id": "Z34Ttbky1YGL"
      },
      "outputs": [],
      "source": [
        "# Prétraitement des images (normalisation)\n",
        "train_images = (train_images.astype('float32') - 127.5) / 127.5\n",
        "test_images = (test_images.astype('float32') - 127.5) / 127.5"
      ]
    },
    {
      "cell_type": "code",
      "execution_count": 34,
      "metadata": {
        "id": "IJgYXvce1xfW"
      },
      "outputs": [],
      "source": [
        "# réseau de neurones convolutionnel (CNN)\n",
        "cnn_input = layers.Input(shape=(32, 32, 3))\n",
        "x = layers.Conv2D(32  , (3, 3), activation='relu')(cnn_input)\n",
        "x = layers.MaxPooling2D((2, 2))(x)\n",
        "x = layers.Conv2D(2048, (3, 3), activation='relu')(x)\n",
        "x = layers.MaxPooling2D((2, 2))(x)\n",
        "x = layers.Conv2D(512, (3, 3), activation='relu')(x)\n",
        "x = layers.Flatten()(x)\n",
        "cnn_output = layers.Dense(256 , activation='relu')(x)"
      ]
    },
    {
      "cell_type": "code",
      "execution_count": 35,
      "metadata": {
        "id": "ZjzT_8un2AAo"
      },
      "outputs": [],
      "source": [
        "# Définition des deux branches du réseau siamois\n",
        "siam_input_a = layers.Input(shape=(32, 32, 3))\n",
        "siam_input_b = layers.Input(shape=(32, 32, 3))"
      ]
    },
    {
      "cell_type": "code",
      "execution_count": 36,
      "metadata": {
        "id": "594VkP8Z2YbE"
      },
      "outputs": [],
      "source": [
        "# CNN sur le reseau siamois\n",
        "siam_output_a = layers.Dense(64, activation='relu')(layers.Flatten()(layers.Conv2D(32, (3, 3), activation='relu')(siam_input_a)))\n",
        "siam_output_b = layers.Dense(64, activation='relu')(layers.Flatten()(layers.Conv2D(32, (3, 3), activation='relu')(siam_input_b)))"
      ]
    },
    {
      "cell_type": "code",
      "execution_count": 37,
      "metadata": {
        "id": "6tSg40KD6T7U"
      },
      "outputs": [],
      "source": [
        "# Concaténation des sorties des deux trucs\n",
        "combined_features = layers.Concatenate()([siam_output_a, siam_output_b])"
      ]
    },
    {
      "cell_type": "code",
      "execution_count": 38,
      "metadata": {
        "id": "6GiyCGSY6Uje"
      },
      "outputs": [],
      "source": [
        "# Fusion des features\n",
        "merged_features = layers.Concatenate()([cnn_output, combined_features])"
      ]
    },
    {
      "cell_type": "code",
      "execution_count": 39,
      "metadata": {
        "id": "93w4jvkK6VAZ"
      },
      "outputs": [],
      "source": [
        "# Couche pleinement connecté pour la classification\n",
        "x = layers.Dense(64, activation='relu')(merged_features)\n",
        "output = layers.Dense(10, activation='sigmoid')(x)\n"
      ]
    },
    {
      "cell_type": "code",
      "execution_count": 40,
      "metadata": {
        "id": "yKMLzCoA6Vps"
      },
      "outputs": [],
      "source": [
        "# Création du modèle\n",
        "model = models.Model(inputs=[cnn_input, siam_input_a, siam_input_b], outputs=output)"
      ]
    },
    {
      "cell_type": "code",
      "execution_count": 41,
      "metadata": {
        "id": "QkHaYH2q63kF"
      },
      "outputs": [],
      "source": [
        "# Compilation\n",
        "model.compile(optimizer='nadam', loss='sparse_categorical_crossentropy', metrics=['accuracy'])"
      ]
    },
    {
      "cell_type": "code",
      "execution_count": 42,
      "metadata": {
        "id": "bN0vRRQj64Jc"
      },
      "outputs": [],
      "source": [
        "# Entraînement\n",
        "#model.fit([train_images, train_images, train_images], train_labels, epochs=15, batch_size=128 , validation_data=([test_images, test_images, test_images], test_labels))"
      ]
    },
    {
      "cell_type": "code",
      "execution_count": 43,
      "metadata": {
        "id": "TCZzWOXriQvj",
        "colab": {
          "base_uri": "https://localhost:8080/"
        },
        "outputId": "60196895-81f9-49e5-f234-c3ab715883aa"
      },
      "outputs": [
        {
          "output_type": "stream",
          "name": "stdout",
          "text": [
            "Epoch 1/7\n",
            "391/391 [==============================] - ETA: 0s - loss: 1.2992 - accuracy: 0.5374\n",
            "Epoch 1: val_accuracy improved from -inf to 0.63400, saving model to best_classificator.keras\n",
            "391/391 [==============================] - 35s 81ms/step - loss: 1.2992 - accuracy: 0.5374 - val_loss: 1.0473 - val_accuracy: 0.6340\n",
            "Epoch 2/7\n",
            "390/391 [============================>.] - ETA: 0s - loss: 0.8270 - accuracy: 0.7105\n",
            "Epoch 2: val_accuracy improved from 0.63400 to 0.70460, saving model to best_classificator.keras\n",
            "391/391 [==============================] - 28s 72ms/step - loss: 0.8273 - accuracy: 0.7104 - val_loss: 0.8546 - val_accuracy: 0.7046\n",
            "Epoch 3/7\n",
            "391/391 [==============================] - ETA: 0s - loss: 0.6094 - accuracy: 0.7885\n",
            "Epoch 3: val_accuracy improved from 0.70460 to 0.75010, saving model to best_classificator.keras\n",
            "391/391 [==============================] - 29s 75ms/step - loss: 0.6094 - accuracy: 0.7885 - val_loss: 0.7401 - val_accuracy: 0.7501\n",
            "Epoch 4/7\n",
            "391/391 [==============================] - ETA: 0s - loss: 0.4466 - accuracy: 0.8446\n",
            "Epoch 4: val_accuracy improved from 0.75010 to 0.75410, saving model to best_classificator.keras\n",
            "391/391 [==============================] - 28s 73ms/step - loss: 0.4466 - accuracy: 0.8446 - val_loss: 0.7531 - val_accuracy: 0.7541\n",
            "Epoch 5/7\n",
            "390/391 [============================>.] - ETA: 0s - loss: 0.3149 - accuracy: 0.8902\n",
            "Epoch 5: val_accuracy did not improve from 0.75410\n",
            "391/391 [==============================] - 27s 70ms/step - loss: 0.3151 - accuracy: 0.8901 - val_loss: 0.8540 - val_accuracy: 0.7483\n",
            "Epoch 6/7\n",
            "391/391 [==============================] - ETA: 0s - loss: 0.2024 - accuracy: 0.9306\n",
            "Epoch 6: val_accuracy improved from 0.75410 to 0.76380, saving model to best_classificator.keras\n",
            "391/391 [==============================] - 32s 83ms/step - loss: 0.2024 - accuracy: 0.9306 - val_loss: 0.8754 - val_accuracy: 0.7638\n",
            "Epoch 7/7\n",
            "390/391 [============================>.] - ETA: 0s - loss: 0.1380 - accuracy: 0.9532\n",
            "Epoch 7: val_accuracy did not improve from 0.76380\n",
            "391/391 [==============================] - 29s 73ms/step - loss: 0.1380 - accuracy: 0.9532 - val_loss: 0.9935 - val_accuracy: 0.7596\n",
            "{'loss': [1.2992092370986938, 0.8273319602012634, 0.609407365322113, 0.4465588629245758, 0.31507790088653564, 0.20241117477416992, 0.13800778985023499], 'accuracy': [0.5373799800872803, 0.7103800177574158, 0.7884799838066101, 0.8446199893951416, 0.8901399970054626, 0.930620014667511, 0.953220009803772], 'val_loss': [1.0473344326019287, 0.8546309471130371, 0.7400743961334229, 0.753126323223114, 0.8540029525756836, 0.875389575958252, 0.9935238361358643], 'val_accuracy': [0.6340000033378601, 0.7045999765396118, 0.7501000165939331, 0.7541000247001648, 0.7483000159263611, 0.7638000249862671, 0.7595999836921692]}\n",
            "313/313 [==============================] - 3s 8ms/step - loss: 0.8754 - accuracy: 0.7638\n",
            "Meilleur modèle - perte: 0.8753892779350281\n",
            "Meilleur modèle - précision: 0.7638000249862671\n"
          ]
        }
      ],
      "source": [
        "from tensorflow.keras.callbacks import ModelCheckpoint\n",
        "\n",
        "# Définition du chemin de sauvegarde du modèle\n",
        "checkpoint_path = \"best_classificator.keras\"\n",
        "\n",
        "# Définition du callback ModelCheckpoint pour sauvegarder le meilleur modèle\n",
        "checkpoint = ModelCheckpoint(filepath=checkpoint_path,\n",
        "                             monitor='val_accuracy',  # Surveille la précision de validation\n",
        "                             save_best_only=True,     # Ne sauvegarde que le meilleur modèle\n",
        "                             verbose=1)               # Affiche des informations lors de la sauvegarde\n",
        "\n",
        "# Entraînement du modèle avec le callback ModelCheckpoint\n",
        "history = model.fit([train_images, train_images, train_images], train_labels,\n",
        "                    epochs=7 , batch_size=128,\n",
        "                    validation_data=([test_images, test_images, test_images], test_labels),\n",
        "                    callbacks=[checkpoint])\n",
        "\n",
        "# Affichage des résultats d'entraînement\n",
        "print(history.history)\n",
        "\n",
        "# Chargement du meilleur modèle sauvegardé\n",
        "best_model = models.load_model(checkpoint_path)\n",
        "\n",
        "# Évaluation du meilleur modèle sur les données de test\n",
        "loss, accuracy = best_model.evaluate([test_images, test_images, test_images], test_labels)\n",
        "print(\"Meilleur modèle - perte:\", loss)\n",
        "print(\"Meilleur modèle - précision:\", accuracy)\n"
      ]
    },
    {
      "cell_type": "code",
      "execution_count": 44,
      "metadata": {
        "id": "2Qbn_Pn0qaUF",
        "colab": {
          "base_uri": "https://localhost:8080/",
          "height": 122
        },
        "outputId": "e1a671bb-17ed-4e74-81fe-b60ea50f1b3b"
      },
      "outputs": [
        {
          "output_type": "execute_result",
          "data": {
            "text/plain": [
              "\"from tensorflow.keras.callbacks import ModelCheckpoint\\n\\n# Définir un rappel pour sauvegarder le meilleur modèle\\ncheckpoint_callback = ModelCheckpoint(filepath='best_model.h5',\\n                                      monitor='val_accuracy',\\n                                      mode='max',\\n                                      save_best_only=True)\\n\\n# Entraîner le modèle en utilisant le rappel\\nmodel.fit(train_images,train_images,train_images,\\n          validation_data=(test_images,test_labels),\\n          epochs=10,\\n          callbacks=[checkpoint_callback])\""
            ],
            "application/vnd.google.colaboratory.intrinsic+json": {
              "type": "string"
            }
          },
          "metadata": {},
          "execution_count": 44
        }
      ],
      "source": [
        "'''from tensorflow.keras.callbacks import ModelCheckpoint\n",
        "\n",
        "# Définir un rappel pour sauvegarder le meilleur modèle\n",
        "checkpoint_callback = ModelCheckpoint(filepath='best_model.h5',\n",
        "                                      monitor='val_accuracy',\n",
        "                                      mode='max',\n",
        "                                      save_best_only=True)\n",
        "\n",
        "# Entraîner le modèle en utilisant le rappel\n",
        "model.fit(train_images,train_images,train_images,\n",
        "          validation_data=(test_images,test_labels),\n",
        "          epochs=10,\n",
        "          callbacks=[checkpoint_callback])'''\n"
      ]
    },
    {
      "cell_type": "code",
      "source": [
        "#best_model = models.load_model(\"best_classificator.keras\" )"
      ],
      "metadata": {
        "id": "DHPyXpUvMLJG"
      },
      "execution_count": 46,
      "outputs": []
    }
  ],
  "metadata": {
    "colab": {
      "provenance": [],
      "gpuType": "T4",
      "authorship_tag": "ABX9TyMEE4KksuT8UN7nEplLMFZC"
    },
    "kernelspec": {
      "display_name": "Python 3",
      "name": "python3"
    },
    "language_info": {
      "name": "python"
    },
    "accelerator": "GPU"
  },
  "nbformat": 4,
  "nbformat_minor": 0
}